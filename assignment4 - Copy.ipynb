{
  "nbformat": 4,
  "nbformat_minor": 0,
  "metadata": {
    "colab": {
      "name": "assignment4.ipynb",
      "provenance": []
    },
    "kernelspec": {
      "name": "python3",
      "display_name": "Python 3"
    },
    "language_info": {
      "name": "python"
    }
  },
  "cells": [
    {
      "cell_type": "code",
      "metadata": {
        "colab": {
          "base_uri": "https://localhost:8080/"
        },
        "id": "XTJLZYeeDjU1",
        "outputId": "78c7d251-66e7-42d5-bc45-9b3ce2b0bace"
      },
      "source": [
        "celsius=float(input(\"enter temperature in celsius:\"))\n",
        "fahrenheit= (celsius * 1.8)+ 32\n",
        "print('%.2f degree celsius is: %0.2f degree fahrenheit'%(celsius,fahrenheit))\n",
        "\n"
      ],
      "execution_count": 10,
      "outputs": [
        {
          "output_type": "stream",
          "text": [
            "enter temperature in celsius:50\n",
            "50.00 degree celsius is: 122.00 degree fahrenheit\n"
          ],
          "name": "stdout"
        }
      ]
    }
  ]
}